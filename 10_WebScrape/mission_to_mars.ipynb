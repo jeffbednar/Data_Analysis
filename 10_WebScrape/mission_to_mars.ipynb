{
 "cells": [
  {
   "cell_type": "code",
   "execution_count": 1,
   "metadata": {},
   "outputs": [],
   "source": [
    "from bs4 import BeautifulSoup as bs\n",
    "import requests\n",
    "from splinter import Browser\n",
    "import pandas as pd\n",
    "import time"
   ]
  },
  {
   "cell_type": "code",
   "execution_count": 2,
   "metadata": {},
   "outputs": [],
   "source": [
    "executable_path = {'executable_path': '/usr/local/bin/chromedriver'}\n",
    "browser = Browser('chrome', **executable_path, headless=False)"
   ]
  },
  {
   "cell_type": "code",
   "execution_count": null,
   "metadata": {},
   "outputs": [],
   "source": [
    "#Mars News\n",
    "news_url = 'https://mars.nasa.gov/news/?page=0&per_page=40&order=publish_date+desc%2Ccreated_at+desc&search=&category=19%2C165%2C184%2C204&blank_scope=Latest'\n",
    "browser.visit(news_url)\n",
    "news_html = browser.html\n",
    "news_soup = bs(news_html, 'html.parser')\n",
    "news_title = news_soup.find('div', class_=\"list_text\").find('div', class_=\"content_title\").text\n",
    "print(news_title)\n",
    "news_p = news_soup.find('div', class_=\"article_teaser_body\").text\n",
    "print(news_p)"
   ]
  },
  {
   "cell_type": "code",
   "execution_count": null,
   "metadata": {},
   "outputs": [],
   "source": [
    "#Mars Space Image\n",
    "image_url = \"https://www.jpl.nasa.gov/spaceimages/?search=&category=Mars\"\n",
    "browser.visit(image_url)\n",
    "browser.find_by_id('full_image').click()\n",
    "time.sleep(4)\n",
    "browser.click_link_by_partial_text('more info')\n",
    "time.sleep(4)\n",
    "\n",
    "image_html = browser.html\n",
    "image_soup = bs(image_html, 'html.parser')\n",
    "\n",
    "image = image_soup.find('img', class_='main_image').get('src')\n",
    "featured_image_url = \"https://www.jpl.nasa.gov\" + image\n",
    "print(featured_image_url)"
   ]
  },
  {
   "cell_type": "code",
   "execution_count": 3,
   "metadata": {},
   "outputs": [],
   "source": [
    "#Mars Weather\n",
    "weather_url = 'https://twitter.com/marswxreport?lang=en'\n",
    "browser.visit(weather_url)\n",
    "time.sleep(5)\n",
    "browser.execute_script(\"window.scrollTo(200, document.body.scrollHeight);\")\n",
    "time.sleep(3)\n",
    "weather_html = browser.html\n",
    "soup = bs(weather_html, 'html.parser')\n",
    "result = soup.find_all('div', attrs={'data-testid': 'tweet'})\n",
    "weather=result[0].find_all('span', class_='css-901oao css-16my406 r-1qd0xha r-ad9z0x r-bcqeeo r-qvutc0')\n",
    "for tweet in weather:\n",
    "    if tweet.text.startswith('InSight'):\n",
    "        mars_weather = tweet.text\n"
   ]
  },
  {
   "cell_type": "code",
   "execution_count": 4,
   "metadata": {},
   "outputs": [
    {
     "data": {
      "text/plain": [
       "'InSight sol 703 (2020-11-17) low -96.0ºC (-140.8ºF) high -8.9ºC (15.9ºF)\\nwinds from the W at 6.4 m/s (14.3 mph) gusting to 21.2 m/s (47.4 mph)\\npressure at 7.40 hPa'"
      ]
     },
     "execution_count": 4,
     "metadata": {},
     "output_type": "execute_result"
    }
   ],
   "source": [
    "mars_weather"
   ]
  },
  {
   "cell_type": "code",
   "execution_count": null,
   "metadata": {},
   "outputs": [],
   "source": [
    "#Mars Facts\n",
    "pandas_url = 'https://space-facts.com/mars/'\n",
    "browser.visit(pandas_url)\n",
    "facts_data = pd.read_html(pandas_url)\n",
    "facts_df = facts_data[0]\n",
    "facts_df.columns = ['Description', 'Value']\n",
    "facts_df.set_index('Description', inplace=True)\n",
    "facts_df\n"
   ]
  },
  {
   "cell_type": "code",
   "execution_count": null,
   "metadata": {},
   "outputs": [],
   "source": [
    "facts_df.to_html('table.html')\n",
    "facts_df.replace('\\n', '')"
   ]
  },
  {
   "cell_type": "code",
   "execution_count": null,
   "metadata": {},
   "outputs": [],
   "source": [
    "#Mars Hemispheres\n",
    "hemispheres_url = \"https://astrogeology.usgs.gov/search/results?q=hemisphere+enhanced&k1=target&v1=Mars\"\n",
    "browser.visit(hemispheres_url)\n",
    "\n",
    "hemispheres_html = browser.html\n",
    "\n",
    "hemisphere_soup = bs(hemispheres_html, 'html.parser')\n",
    "\n",
    "info = hemisphere_soup.find_all('div', class_='item')\n",
    "\n",
    "main_hemisphere_url = \"https://astrogeology.usgs.gov\"\n",
    "\n",
    "hemisphere_image_urls = []\n",
    "\n",
    "\n",
    "for i in info:\n",
    "    title = i.find('h3').text\n",
    "    title = title.replace('Enhanced','')\n",
    "    hemi_image_url = i.find('a', class_='itemLink product-item')['href']\n",
    "    browser.visit(main_hemisphere_url + hemi_image_url)\n",
    "    image_html = browser.html\n",
    "    image_soup = bs(image_html, 'html.parser')\n",
    "    img_url = main_hemisphere_url + image_soup.find('img', class_='wide-image')['src']\n",
    "    hemisphere_image_urls.append({\"title\" : title, \"img_url\" : img_url })\n",
    "\n",
    "hemisphere_image_urls"
   ]
  },
  {
   "cell_type": "code",
   "execution_count": null,
   "metadata": {},
   "outputs": [],
   "source": []
  }
 ],
 "metadata": {
  "kernelspec": {
   "display_name": "Python [conda env:PythonData]",
   "language": "python",
   "name": "conda-env-PythonData-py"
  },
  "language_info": {
   "codemirror_mode": {
    "name": "ipython",
    "version": 3
   },
   "file_extension": ".py",
   "mimetype": "text/x-python",
   "name": "python",
   "nbconvert_exporter": "python",
   "pygments_lexer": "ipython3",
   "version": "3.8.5"
  }
 },
 "nbformat": 4,
 "nbformat_minor": 4
}
