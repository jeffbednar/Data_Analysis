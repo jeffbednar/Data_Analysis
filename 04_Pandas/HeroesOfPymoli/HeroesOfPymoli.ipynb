{
 "cells": [
  {
   "cell_type": "code",
   "execution_count": null,
   "metadata": {},
   "outputs": [],
   "source": []
  },
  {
   "cell_type": "markdown",
   "metadata": {},
   "source": [
    "Hereos of Pymoli Analysis\n",
    "\n",
    "*Even though Males are the majority of players, Females or Other/Non-Disclosed spend \n",
    "more money on average per item purchase.\n",
    "\n",
    "*Players in the age range between 35 - 39 years old, spend the most money per average per person.\n",
    "\n",
    "*Our peak age demographic between 20 - 24 years old is our customer of choice, not only because of their numbers but also because of their purchase count. They also have the 3rd highest average total purchase per person also.\n"
   ]
  },
  {
   "cell_type": "code",
   "execution_count": 1,
   "metadata": {},
   "outputs": [],
   "source": [
    "# Dependencies and Setup\n",
    "import pandas as pd\n",
    "\n",
    "# File to Load (Remember to Change These)\n",
    "file_to_load = \"Resources/purchase_data.csv\"\n",
    "\n",
    "# Read Purchasing File and store into Pandas data frame\n",
    "purchase_data = pd.read_csv(file_to_load)"
   ]
  },
  {
   "cell_type": "markdown",
   "metadata": {},
   "source": [
    "## Player Count"
   ]
  },
  {
   "cell_type": "markdown",
   "metadata": {},
   "source": [
    "* Display the total number of players\n"
   ]
  },
  {
   "cell_type": "code",
   "execution_count": 2,
   "metadata": {},
   "outputs": [
    {
     "data": {
      "text/html": [
       "<div>\n",
       "<style scoped>\n",
       "    .dataframe tbody tr th:only-of-type {\n",
       "        vertical-align: middle;\n",
       "    }\n",
       "\n",
       "    .dataframe tbody tr th {\n",
       "        vertical-align: top;\n",
       "    }\n",
       "\n",
       "    .dataframe thead th {\n",
       "        text-align: right;\n",
       "    }\n",
       "</style>\n",
       "<table border=\"1\" class=\"dataframe\">\n",
       "  <thead>\n",
       "    <tr style=\"text-align: right;\">\n",
       "      <th></th>\n",
       "      <th>Total Players</th>\n",
       "    </tr>\n",
       "  </thead>\n",
       "  <tbody>\n",
       "    <tr>\n",
       "      <th>0</th>\n",
       "      <td>576</td>\n",
       "    </tr>\n",
       "  </tbody>\n",
       "</table>\n",
       "</div>"
      ],
      "text/plain": [
       "   Total Players\n",
       "0            576"
      ]
     },
     "execution_count": 2,
     "metadata": {},
     "output_type": "execute_result"
    }
   ],
   "source": [
    "#Finding total players by the length of unique Screen Names\n",
    "total_players = len(purchase_data[\"SN\"].unique())\n",
    "player_count = pd.DataFrame({\"Total Players\": [total_players]})\n",
    "player_count"
   ]
  },
  {
   "cell_type": "markdown",
   "metadata": {},
   "source": [
    "## Purchasing Analysis (Total)"
   ]
  },
  {
   "cell_type": "markdown",
   "metadata": {},
   "source": [
    "* Run basic calculations to obtain number of unique items, average price, etc.\n",
    "\n",
    "\n",
    "* Create a summary data frame to hold the results\n",
    "\n",
    "\n",
    "* Optional: give the displayed data cleaner formatting\n",
    "\n",
    "\n",
    "* Display the summary data frame\n"
   ]
  },
  {
   "cell_type": "code",
   "execution_count": 3,
   "metadata": {
    "scrolled": true
   },
   "outputs": [
    {
     "data": {
      "text/html": [
       "<style  type=\"text/css\" >\n",
       "</style><table id=\"T_58456c7c_0cee_11eb_9c98_9801a79465db\" ><thead>    <tr>        <th class=\"blank level0\" ></th>        <th class=\"col_heading level0 col0\" >Number of Unique Items</th>        <th class=\"col_heading level0 col1\" >Average Price</th>        <th class=\"col_heading level0 col2\" >Number of Purchases</th>        <th class=\"col_heading level0 col3\" >Total Revenue</th>    </tr></thead><tbody>\n",
       "                <tr>\n",
       "                        <th id=\"T_58456c7c_0cee_11eb_9c98_9801a79465dblevel0_row0\" class=\"row_heading level0 row0\" >0</th>\n",
       "                        <td id=\"T_58456c7c_0cee_11eb_9c98_9801a79465dbrow0_col0\" class=\"data row0 col0\" >179</td>\n",
       "                        <td id=\"T_58456c7c_0cee_11eb_9c98_9801a79465dbrow0_col1\" class=\"data row0 col1\" >$3.05</td>\n",
       "                        <td id=\"T_58456c7c_0cee_11eb_9c98_9801a79465dbrow0_col2\" class=\"data row0 col2\" >780</td>\n",
       "                        <td id=\"T_58456c7c_0cee_11eb_9c98_9801a79465dbrow0_col3\" class=\"data row0 col3\" >$2,379.77</td>\n",
       "            </tr>\n",
       "    </tbody></table>"
      ],
      "text/plain": [
       "<pandas.io.formats.style.Styler at 0x7fc47df73430>"
      ]
     },
     "execution_count": 3,
     "metadata": {},
     "output_type": "execute_result"
    }
   ],
   "source": [
    "#Finding the number of unique items\n",
    "unique_items = len(purchase_data[\"Item Name\"].value_counts())\n",
    "#Finding the mean of Price\n",
    "average_price = purchase_data[\"Price\"].mean()\n",
    "#Finding the number of purchases\n",
    "num_purchases = len(purchase_data[\"Purchase ID\"])\n",
    "#Finding the sum of Price for Total Revenue \n",
    "tot_revenue = purchase_data[\"Price\"].sum()\n",
    "#Create Data Frame\n",
    "purchase_analysis = pd.DataFrame({\"Number of Unique Items\": [unique_items],\"Average Price\": [average_price], \"Number of Purchases\": [num_purchases],\"Total Revenue\": [tot_revenue] })\n",
    "#Styling \n",
    "style_dic = {\"Average Price\":\"${0:,.2f}\", \"Total Revenue\":\"${0:,.2f}\"}\n",
    "purchase_analysis.style.format(style_dic)"
   ]
  },
  {
   "cell_type": "markdown",
   "metadata": {},
   "source": [
    "## Gender Demographics"
   ]
  },
  {
   "cell_type": "markdown",
   "metadata": {},
   "source": [
    "* Percentage and Count of Male Players\n",
    "\n",
    "\n",
    "* Percentage and Count of Female Players\n",
    "\n",
    "\n",
    "* Percentage and Count of Other / Non-Disclosed\n",
    "\n",
    "\n"
   ]
  },
  {
   "cell_type": "code",
   "execution_count": 4,
   "metadata": {},
   "outputs": [
    {
     "data": {
      "text/html": [
       "<style  type=\"text/css\" >\n",
       "</style><table id=\"T_5a3e0958_0cee_11eb_9c98_9801a79465db\" ><thead>    <tr>        <th class=\"blank level0\" ></th>        <th class=\"col_heading level0 col0\" >Total Count</th>        <th class=\"col_heading level0 col1\" >Percentage of Players</th>    </tr></thead><tbody>\n",
       "                <tr>\n",
       "                        <th id=\"T_5a3e0958_0cee_11eb_9c98_9801a79465dblevel0_row0\" class=\"row_heading level0 row0\" >Male</th>\n",
       "                        <td id=\"T_5a3e0958_0cee_11eb_9c98_9801a79465dbrow0_col0\" class=\"data row0 col0\" >484</td>\n",
       "                        <td id=\"T_5a3e0958_0cee_11eb_9c98_9801a79465dbrow0_col1\" class=\"data row0 col1\" >84.03%</td>\n",
       "            </tr>\n",
       "            <tr>\n",
       "                        <th id=\"T_5a3e0958_0cee_11eb_9c98_9801a79465dblevel0_row1\" class=\"row_heading level0 row1\" >Female</th>\n",
       "                        <td id=\"T_5a3e0958_0cee_11eb_9c98_9801a79465dbrow1_col0\" class=\"data row1 col0\" >81</td>\n",
       "                        <td id=\"T_5a3e0958_0cee_11eb_9c98_9801a79465dbrow1_col1\" class=\"data row1 col1\" >14.06%</td>\n",
       "            </tr>\n",
       "            <tr>\n",
       "                        <th id=\"T_5a3e0958_0cee_11eb_9c98_9801a79465dblevel0_row2\" class=\"row_heading level0 row2\" >Other / Non-Disclosed</th>\n",
       "                        <td id=\"T_5a3e0958_0cee_11eb_9c98_9801a79465dbrow2_col0\" class=\"data row2 col0\" >11</td>\n",
       "                        <td id=\"T_5a3e0958_0cee_11eb_9c98_9801a79465dbrow2_col1\" class=\"data row2 col1\" >1.91%</td>\n",
       "            </tr>\n",
       "    </tbody></table>"
      ],
      "text/plain": [
       "<pandas.io.formats.style.Styler at 0x7fc47ef7c070>"
      ]
     },
     "execution_count": 4,
     "metadata": {},
     "output_type": "execute_result"
    }
   ],
   "source": [
    "#Drop Duplicates of Screen Names to find accurate Gender Count\n",
    "gender_count = purchase_data.drop_duplicates(subset = [\"SN\"])\n",
    "#Creating Gender Count variable to find Total Count by Gender\n",
    "gender_count = gender_count[\"Gender\"].value_counts()\n",
    "#Finding Gender Percentages\n",
    "gender_percentage= gender_count/total_players * 100\n",
    "#Create Data Frams\n",
    "gender_demographics = pd.DataFrame({\"Total Count\": gender_count, \"Percentage of Players\": gender_percentage})\n",
    "#Styling\n",
    "style_dic = {\"Percentage of Players\":\"{0:,.2f}%\"}\n",
    "gender_demographics.style.format(style_dic)"
   ]
  },
  {
   "cell_type": "markdown",
   "metadata": {},
   "source": [
    "\n",
    "## Purchasing Analysis (Gender)"
   ]
  },
  {
   "cell_type": "markdown",
   "metadata": {},
   "source": [
    "* Run basic calculations to obtain purchase count, avg. purchase price, avg. purchase total per person etc. by gender\n",
    "\n",
    "\n",
    "\n",
    "\n",
    "* Create a summary data frame to hold the results\n",
    "\n",
    "\n",
    "* Optional: give the displayed data cleaner formatting\n",
    "\n",
    "\n",
    "* Display the summary data frame"
   ]
  },
  {
   "cell_type": "code",
   "execution_count": 5,
   "metadata": {},
   "outputs": [
    {
     "data": {
      "text/html": [
       "<style  type=\"text/css\" >\n",
       "</style><table id=\"T_5c69eeb8_0cee_11eb_9c98_9801a79465db\" ><thead>    <tr>        <th class=\"blank level0\" ></th>        <th class=\"col_heading level0 col0\" >Purchase Count</th>        <th class=\"col_heading level0 col1\" >Average Purchase Price</th>        <th class=\"col_heading level0 col2\" >Total Purchase Value</th>        <th class=\"col_heading level0 col3\" >Avg Total Purchase per Person</th>    </tr>    <tr>        <th class=\"index_name level0\" >Gender</th>        <th class=\"blank\" ></th>        <th class=\"blank\" ></th>        <th class=\"blank\" ></th>        <th class=\"blank\" ></th>    </tr></thead><tbody>\n",
       "                <tr>\n",
       "                        <th id=\"T_5c69eeb8_0cee_11eb_9c98_9801a79465dblevel0_row0\" class=\"row_heading level0 row0\" >Female</th>\n",
       "                        <td id=\"T_5c69eeb8_0cee_11eb_9c98_9801a79465dbrow0_col0\" class=\"data row0 col0\" >113</td>\n",
       "                        <td id=\"T_5c69eeb8_0cee_11eb_9c98_9801a79465dbrow0_col1\" class=\"data row0 col1\" >$3.20</td>\n",
       "                        <td id=\"T_5c69eeb8_0cee_11eb_9c98_9801a79465dbrow0_col2\" class=\"data row0 col2\" >$361.94</td>\n",
       "                        <td id=\"T_5c69eeb8_0cee_11eb_9c98_9801a79465dbrow0_col3\" class=\"data row0 col3\" >$4.47</td>\n",
       "            </tr>\n",
       "            <tr>\n",
       "                        <th id=\"T_5c69eeb8_0cee_11eb_9c98_9801a79465dblevel0_row1\" class=\"row_heading level0 row1\" >Male</th>\n",
       "                        <td id=\"T_5c69eeb8_0cee_11eb_9c98_9801a79465dbrow1_col0\" class=\"data row1 col0\" >652</td>\n",
       "                        <td id=\"T_5c69eeb8_0cee_11eb_9c98_9801a79465dbrow1_col1\" class=\"data row1 col1\" >$3.02</td>\n",
       "                        <td id=\"T_5c69eeb8_0cee_11eb_9c98_9801a79465dbrow1_col2\" class=\"data row1 col2\" >$1,967.64</td>\n",
       "                        <td id=\"T_5c69eeb8_0cee_11eb_9c98_9801a79465dbrow1_col3\" class=\"data row1 col3\" >$4.07</td>\n",
       "            </tr>\n",
       "            <tr>\n",
       "                        <th id=\"T_5c69eeb8_0cee_11eb_9c98_9801a79465dblevel0_row2\" class=\"row_heading level0 row2\" >Other / Non-Disclosed</th>\n",
       "                        <td id=\"T_5c69eeb8_0cee_11eb_9c98_9801a79465dbrow2_col0\" class=\"data row2 col0\" >15</td>\n",
       "                        <td id=\"T_5c69eeb8_0cee_11eb_9c98_9801a79465dbrow2_col1\" class=\"data row2 col1\" >$3.35</td>\n",
       "                        <td id=\"T_5c69eeb8_0cee_11eb_9c98_9801a79465dbrow2_col2\" class=\"data row2 col2\" >$50.19</td>\n",
       "                        <td id=\"T_5c69eeb8_0cee_11eb_9c98_9801a79465dbrow2_col3\" class=\"data row2 col3\" >$4.56</td>\n",
       "            </tr>\n",
       "    </tbody></table>"
      ],
      "text/plain": [
       "<pandas.io.formats.style.Styler at 0x7fc47df46d60>"
      ]
     },
     "execution_count": 5,
     "metadata": {},
     "output_type": "execute_result"
    }
   ],
   "source": [
    "#Find Purchase Counts by Gender \n",
    "purchase_count = purchase_data.groupby([\"Gender\"]).count()[\"Purchase ID\"]\n",
    "#Find Avg Purchase Price by Gender\n",
    "avg_purchase_price = purchase_data.groupby([\"Gender\"]).mean()[\"Price\"]\n",
    "#Find Total Purchase Value by Gender\n",
    "total_purchase_val = purchase_data.groupby([\"Gender\"]).sum()[\"Price\"]\n",
    "#Find Avg Total Purchase per Person by Gender\n",
    "avg_total_purchase = total_purchase_val / gender_count\n",
    "#Create Data Frame\n",
    "purchasing_analysis = pd.DataFrame({\"Purchase Count\": purchase_count, \"Average Purchase Price\": avg_purchase_price, \"Total Purchase Value\": total_purchase_val, \"Avg Total Purchase per Person\": avg_total_purchase})\n",
    "#Styling\n",
    "style_dic = {\"Average Purchase Price\":\"${0:,.2f}\", \"Total Purchase Value\":\"${0:,.2f}\",\"Avg Total Purchase per Person\":\"${0:.2f}\"}\n",
    "purchasing_analysis.style.format(style_dic)"
   ]
  },
  {
   "cell_type": "markdown",
   "metadata": {},
   "source": [
    "## Age Demographics"
   ]
  },
  {
   "cell_type": "markdown",
   "metadata": {},
   "source": [
    "* Establish bins for ages\n",
    "\n",
    "\n",
    "* Categorize the existing players using the age bins. Hint: use pd.cut()\n",
    "\n",
    "\n",
    "* Calculate the numbers and percentages by age group\n",
    "\n",
    "\n",
    "* Create a summary data frame to hold the results\n",
    "\n",
    "\n",
    "* Optional: round the percentage column to two decimal points\n",
    "\n",
    "\n",
    "* Display Age Demographics Table\n"
   ]
  },
  {
   "cell_type": "code",
   "execution_count": 6,
   "metadata": {},
   "outputs": [
    {
     "name": "stderr",
     "output_type": "stream",
     "text": [
      "<ipython-input-6-422a4f957352>:8: SettingWithCopyWarning: \n",
      "A value is trying to be set on a copy of a slice from a DataFrame.\n",
      "Try using .loc[row_indexer,col_indexer] = value instead\n",
      "\n",
      "See the caveats in the documentation: https://pandas.pydata.org/pandas-docs/stable/user_guide/indexing.html#returning-a-view-versus-a-copy\n",
      "  age_data[\"Age Bin\"] = pd.cut(purchase_data[\"Age\"], bins, labels=bin_name,include_lowest=True)\n"
     ]
    },
    {
     "data": {
      "text/html": [
       "<style  type=\"text/css\" >\n",
       "</style><table id=\"T_5e4795e6_0cee_11eb_9c98_9801a79465db\" ><thead>    <tr>        <th class=\"blank level0\" ></th>        <th class=\"col_heading level0 col0\" >Total Count</th>        <th class=\"col_heading level0 col1\" >Percentage of Players</th>    </tr>    <tr>        <th class=\"index_name level0\" >Age Bin</th>        <th class=\"blank\" ></th>        <th class=\"blank\" ></th>    </tr></thead><tbody>\n",
       "                <tr>\n",
       "                        <th id=\"T_5e4795e6_0cee_11eb_9c98_9801a79465dblevel0_row0\" class=\"row_heading level0 row0\" ><10</th>\n",
       "                        <td id=\"T_5e4795e6_0cee_11eb_9c98_9801a79465dbrow0_col0\" class=\"data row0 col0\" >17</td>\n",
       "                        <td id=\"T_5e4795e6_0cee_11eb_9c98_9801a79465dbrow0_col1\" class=\"data row0 col1\" >2.95%</td>\n",
       "            </tr>\n",
       "            <tr>\n",
       "                        <th id=\"T_5e4795e6_0cee_11eb_9c98_9801a79465dblevel0_row1\" class=\"row_heading level0 row1\" >10-14</th>\n",
       "                        <td id=\"T_5e4795e6_0cee_11eb_9c98_9801a79465dbrow1_col0\" class=\"data row1 col0\" >22</td>\n",
       "                        <td id=\"T_5e4795e6_0cee_11eb_9c98_9801a79465dbrow1_col1\" class=\"data row1 col1\" >3.82%</td>\n",
       "            </tr>\n",
       "            <tr>\n",
       "                        <th id=\"T_5e4795e6_0cee_11eb_9c98_9801a79465dblevel0_row2\" class=\"row_heading level0 row2\" >15-19</th>\n",
       "                        <td id=\"T_5e4795e6_0cee_11eb_9c98_9801a79465dbrow2_col0\" class=\"data row2 col0\" >107</td>\n",
       "                        <td id=\"T_5e4795e6_0cee_11eb_9c98_9801a79465dbrow2_col1\" class=\"data row2 col1\" >18.58%</td>\n",
       "            </tr>\n",
       "            <tr>\n",
       "                        <th id=\"T_5e4795e6_0cee_11eb_9c98_9801a79465dblevel0_row3\" class=\"row_heading level0 row3\" >20-24</th>\n",
       "                        <td id=\"T_5e4795e6_0cee_11eb_9c98_9801a79465dbrow3_col0\" class=\"data row3 col0\" >258</td>\n",
       "                        <td id=\"T_5e4795e6_0cee_11eb_9c98_9801a79465dbrow3_col1\" class=\"data row3 col1\" >44.79%</td>\n",
       "            </tr>\n",
       "            <tr>\n",
       "                        <th id=\"T_5e4795e6_0cee_11eb_9c98_9801a79465dblevel0_row4\" class=\"row_heading level0 row4\" >25-29</th>\n",
       "                        <td id=\"T_5e4795e6_0cee_11eb_9c98_9801a79465dbrow4_col0\" class=\"data row4 col0\" >77</td>\n",
       "                        <td id=\"T_5e4795e6_0cee_11eb_9c98_9801a79465dbrow4_col1\" class=\"data row4 col1\" >13.37%</td>\n",
       "            </tr>\n",
       "            <tr>\n",
       "                        <th id=\"T_5e4795e6_0cee_11eb_9c98_9801a79465dblevel0_row5\" class=\"row_heading level0 row5\" >30-35</th>\n",
       "                        <td id=\"T_5e4795e6_0cee_11eb_9c98_9801a79465dbrow5_col0\" class=\"data row5 col0\" >52</td>\n",
       "                        <td id=\"T_5e4795e6_0cee_11eb_9c98_9801a79465dbrow5_col1\" class=\"data row5 col1\" >9.03%</td>\n",
       "            </tr>\n",
       "            <tr>\n",
       "                        <th id=\"T_5e4795e6_0cee_11eb_9c98_9801a79465dblevel0_row6\" class=\"row_heading level0 row6\" >35-39</th>\n",
       "                        <td id=\"T_5e4795e6_0cee_11eb_9c98_9801a79465dbrow6_col0\" class=\"data row6 col0\" >31</td>\n",
       "                        <td id=\"T_5e4795e6_0cee_11eb_9c98_9801a79465dbrow6_col1\" class=\"data row6 col1\" >5.38%</td>\n",
       "            </tr>\n",
       "            <tr>\n",
       "                        <th id=\"T_5e4795e6_0cee_11eb_9c98_9801a79465dblevel0_row7\" class=\"row_heading level0 row7\" >40+</th>\n",
       "                        <td id=\"T_5e4795e6_0cee_11eb_9c98_9801a79465dbrow7_col0\" class=\"data row7 col0\" >12</td>\n",
       "                        <td id=\"T_5e4795e6_0cee_11eb_9c98_9801a79465dbrow7_col1\" class=\"data row7 col1\" >2.08%</td>\n",
       "            </tr>\n",
       "    </tbody></table>"
      ],
      "text/plain": [
       "<pandas.io.formats.style.Styler at 0x7fc47cb411f0>"
      ]
     },
     "execution_count": 6,
     "metadata": {},
     "output_type": "execute_result"
    }
   ],
   "source": [
    "#Create Age Bins\n",
    "bins = [0,9,14,19,24,29,34,39,46]\n",
    "#Set Bin Names\n",
    "bin_name = [\"<10\", \"10-14\",\"15-19\",\"20-24\",\"25-29\",\"30-35\",\"35-39\",\"40+\"]\n",
    "#Create Age variable by dropping duplicate Screen Names\n",
    "age_data = purchase_data.drop_duplicates(subset = [\"SN\"])\n",
    "#Cutting data to put in Age Bins\n",
    "age_data[\"Age Bin\"] = pd.cut(purchase_data[\"Age\"], bins, labels=bin_name,include_lowest=True)\n",
    "#Getting Total Count by Age Bin\n",
    "age_count = age_data.groupby(\"Age Bin\").count()\n",
    "#Finding Age Percentage per Age Bin\n",
    "age_percentage = age_count['Age'] / total_players * 100\n",
    "#Create Data Frame\n",
    "age_demographics = pd.DataFrame({\"Total Count\": age_count['Age'], \"Percentage of Players\": age_percentage})\n",
    "#Styling\n",
    "style_dic={\"Percentage of Players\":\"{0:,.2f}%\"}\n",
    "age_demographics.style.format(style_dic)"
   ]
  },
  {
   "cell_type": "markdown",
   "metadata": {},
   "source": [
    "## Purchasing Analysis (Age)"
   ]
  },
  {
   "cell_type": "markdown",
   "metadata": {},
   "source": [
    "* Bin the purchase_data data frame by age\n",
    "\n",
    "\n",
    "* Run basic calculations to obtain purchase count, avg. purchase price, avg. purchase total per person etc. in the table below\n",
    "\n",
    "\n",
    "* Create a summary data frame to hold the results\n",
    "\n",
    "\n",
    "* Optional: give the displayed data cleaner formatting\n",
    "\n",
    "\n",
    "* Display the summary data frame"
   ]
  },
  {
   "cell_type": "code",
   "execution_count": 7,
   "metadata": {},
   "outputs": [
    {
     "data": {
      "text/html": [
       "<style  type=\"text/css\" >\n",
       "</style><table id=\"T_62dc9afc_0cee_11eb_9c98_9801a79465db\" ><thead>    <tr>        <th class=\"blank level0\" ></th>        <th class=\"col_heading level0 col0\" >Purchase Count</th>        <th class=\"col_heading level0 col1\" >Average Purchase Price</th>        <th class=\"col_heading level0 col2\" >Total Purchase Value</th>        <th class=\"col_heading level0 col3\" >Avg Total Purchase per Person</th>    </tr>    <tr>        <th class=\"index_name level0\" >Age Bin</th>        <th class=\"blank\" ></th>        <th class=\"blank\" ></th>        <th class=\"blank\" ></th>        <th class=\"blank\" ></th>    </tr></thead><tbody>\n",
       "                <tr>\n",
       "                        <th id=\"T_62dc9afc_0cee_11eb_9c98_9801a79465dblevel0_row0\" class=\"row_heading level0 row0\" ><10</th>\n",
       "                        <td id=\"T_62dc9afc_0cee_11eb_9c98_9801a79465dbrow0_col0\" class=\"data row0 col0\" >23</td>\n",
       "                        <td id=\"T_62dc9afc_0cee_11eb_9c98_9801a79465dbrow0_col1\" class=\"data row0 col1\" >$3.35</td>\n",
       "                        <td id=\"T_62dc9afc_0cee_11eb_9c98_9801a79465dbrow0_col2\" class=\"data row0 col2\" >$77.13</td>\n",
       "                        <td id=\"T_62dc9afc_0cee_11eb_9c98_9801a79465dbrow0_col3\" class=\"data row0 col3\" >$4.54</td>\n",
       "            </tr>\n",
       "            <tr>\n",
       "                        <th id=\"T_62dc9afc_0cee_11eb_9c98_9801a79465dblevel0_row1\" class=\"row_heading level0 row1\" >10-14</th>\n",
       "                        <td id=\"T_62dc9afc_0cee_11eb_9c98_9801a79465dbrow1_col0\" class=\"data row1 col0\" >28</td>\n",
       "                        <td id=\"T_62dc9afc_0cee_11eb_9c98_9801a79465dbrow1_col1\" class=\"data row1 col1\" >$2.96</td>\n",
       "                        <td id=\"T_62dc9afc_0cee_11eb_9c98_9801a79465dbrow1_col2\" class=\"data row1 col2\" >$82.78</td>\n",
       "                        <td id=\"T_62dc9afc_0cee_11eb_9c98_9801a79465dbrow1_col3\" class=\"data row1 col3\" >$3.76</td>\n",
       "            </tr>\n",
       "            <tr>\n",
       "                        <th id=\"T_62dc9afc_0cee_11eb_9c98_9801a79465dblevel0_row2\" class=\"row_heading level0 row2\" >15-19</th>\n",
       "                        <td id=\"T_62dc9afc_0cee_11eb_9c98_9801a79465dbrow2_col0\" class=\"data row2 col0\" >136</td>\n",
       "                        <td id=\"T_62dc9afc_0cee_11eb_9c98_9801a79465dbrow2_col1\" class=\"data row2 col1\" >$3.04</td>\n",
       "                        <td id=\"T_62dc9afc_0cee_11eb_9c98_9801a79465dbrow2_col2\" class=\"data row2 col2\" >$412.89</td>\n",
       "                        <td id=\"T_62dc9afc_0cee_11eb_9c98_9801a79465dbrow2_col3\" class=\"data row2 col3\" >$3.86</td>\n",
       "            </tr>\n",
       "            <tr>\n",
       "                        <th id=\"T_62dc9afc_0cee_11eb_9c98_9801a79465dblevel0_row3\" class=\"row_heading level0 row3\" >20-24</th>\n",
       "                        <td id=\"T_62dc9afc_0cee_11eb_9c98_9801a79465dbrow3_col0\" class=\"data row3 col0\" >365</td>\n",
       "                        <td id=\"T_62dc9afc_0cee_11eb_9c98_9801a79465dbrow3_col1\" class=\"data row3 col1\" >$3.05</td>\n",
       "                        <td id=\"T_62dc9afc_0cee_11eb_9c98_9801a79465dbrow3_col2\" class=\"data row3 col2\" >$1,114.06</td>\n",
       "                        <td id=\"T_62dc9afc_0cee_11eb_9c98_9801a79465dbrow3_col3\" class=\"data row3 col3\" >$4.32</td>\n",
       "            </tr>\n",
       "            <tr>\n",
       "                        <th id=\"T_62dc9afc_0cee_11eb_9c98_9801a79465dblevel0_row4\" class=\"row_heading level0 row4\" >25-29</th>\n",
       "                        <td id=\"T_62dc9afc_0cee_11eb_9c98_9801a79465dbrow4_col0\" class=\"data row4 col0\" >101</td>\n",
       "                        <td id=\"T_62dc9afc_0cee_11eb_9c98_9801a79465dbrow4_col1\" class=\"data row4 col1\" >$2.90</td>\n",
       "                        <td id=\"T_62dc9afc_0cee_11eb_9c98_9801a79465dbrow4_col2\" class=\"data row4 col2\" >$293.00</td>\n",
       "                        <td id=\"T_62dc9afc_0cee_11eb_9c98_9801a79465dbrow4_col3\" class=\"data row4 col3\" >$3.81</td>\n",
       "            </tr>\n",
       "            <tr>\n",
       "                        <th id=\"T_62dc9afc_0cee_11eb_9c98_9801a79465dblevel0_row5\" class=\"row_heading level0 row5\" >30-35</th>\n",
       "                        <td id=\"T_62dc9afc_0cee_11eb_9c98_9801a79465dbrow5_col0\" class=\"data row5 col0\" >73</td>\n",
       "                        <td id=\"T_62dc9afc_0cee_11eb_9c98_9801a79465dbrow5_col1\" class=\"data row5 col1\" >$2.93</td>\n",
       "                        <td id=\"T_62dc9afc_0cee_11eb_9c98_9801a79465dbrow5_col2\" class=\"data row5 col2\" >$214.00</td>\n",
       "                        <td id=\"T_62dc9afc_0cee_11eb_9c98_9801a79465dbrow5_col3\" class=\"data row5 col3\" >$4.12</td>\n",
       "            </tr>\n",
       "            <tr>\n",
       "                        <th id=\"T_62dc9afc_0cee_11eb_9c98_9801a79465dblevel0_row6\" class=\"row_heading level0 row6\" >35-39</th>\n",
       "                        <td id=\"T_62dc9afc_0cee_11eb_9c98_9801a79465dbrow6_col0\" class=\"data row6 col0\" >41</td>\n",
       "                        <td id=\"T_62dc9afc_0cee_11eb_9c98_9801a79465dbrow6_col1\" class=\"data row6 col1\" >$3.60</td>\n",
       "                        <td id=\"T_62dc9afc_0cee_11eb_9c98_9801a79465dbrow6_col2\" class=\"data row6 col2\" >$147.67</td>\n",
       "                        <td id=\"T_62dc9afc_0cee_11eb_9c98_9801a79465dbrow6_col3\" class=\"data row6 col3\" >$4.76</td>\n",
       "            </tr>\n",
       "            <tr>\n",
       "                        <th id=\"T_62dc9afc_0cee_11eb_9c98_9801a79465dblevel0_row7\" class=\"row_heading level0 row7\" >40+</th>\n",
       "                        <td id=\"T_62dc9afc_0cee_11eb_9c98_9801a79465dbrow7_col0\" class=\"data row7 col0\" >13</td>\n",
       "                        <td id=\"T_62dc9afc_0cee_11eb_9c98_9801a79465dbrow7_col1\" class=\"data row7 col1\" >$2.94</td>\n",
       "                        <td id=\"T_62dc9afc_0cee_11eb_9c98_9801a79465dbrow7_col2\" class=\"data row7 col2\" >$38.24</td>\n",
       "                        <td id=\"T_62dc9afc_0cee_11eb_9c98_9801a79465dbrow7_col3\" class=\"data row7 col3\" >$3.19</td>\n",
       "            </tr>\n",
       "    </tbody></table>"
      ],
      "text/plain": [
       "<pandas.io.formats.style.Styler at 0x7fc47df736a0>"
      ]
     },
     "execution_count": 7,
     "metadata": {},
     "output_type": "execute_result"
    }
   ],
   "source": [
    "#Create Age Bins\n",
    "bins = [0,9,14,19,24,29,34,39,46]\n",
    "#Set Bin Names\n",
    "bin_name = [\"<10\", \"10-14\",\"15-19\",\"20-24\",\"25-29\",\"30-35\",\"35-39\",\"40+\"]\n",
    "#Cutting Data to put in Age Bins\n",
    "purchase_data[\"Age Range\"] = pd.cut(purchase_data[\"Age\"], bins, labels=bin_name,include_lowest=True)\n",
    "#Find Purchase Count by Age Bin\n",
    "age_purchase_data = purchase_data.groupby(\"Age Range\")['Price'].count().values\n",
    "#Find Avg Purchase Price by Age Bin\n",
    "age_avg_purchase_price = purchase_data.groupby(\"Age Range\")['Price'].mean().values\n",
    "#Find Total Purchase Value by Age Bin\n",
    "age_total_purchase_value = purchase_data.groupby(\"Age Range\")['Price'].sum().values\n",
    "#Find Avg Total Purchase per Person by Age Bin\n",
    "age_avg_total_purchase = age_total_purchase_value / age_count[\"Age\"]\n",
    "#Create Data Fram\n",
    "age_purchase_analysis = pd.DataFrame({\"Purchase Count\": age_purchase_data, \"Average Purchase Price\":age_avg_purchase_price, \"Total Purchase Value\": age_total_purchase_value, \"Avg Total Purchase per Person\":age_avg_total_purchase})\n",
    "#Styling\n",
    "style_dic={\"Average Purchase Price\":\"${0:,.2f}\", \"Total Purchase Value\":\"${0:,.2f}\", \"Avg Total Purchase per Person\":\"${0:,.2f}\"}\n",
    "age_purchase_analysis.style.format(style_dic)"
   ]
  },
  {
   "cell_type": "markdown",
   "metadata": {},
   "source": [
    "## Top Spenders"
   ]
  },
  {
   "cell_type": "markdown",
   "metadata": {},
   "source": [
    "* Run basic calculations to obtain the results in the table below\n",
    "\n",
    "\n",
    "* Create a summary data frame to hold the results\n",
    "\n",
    "\n",
    "* Sort the total purchase value column in descending order\n",
    "\n",
    "\n",
    "* Optional: give the displayed data cleaner formatting\n",
    "\n",
    "\n",
    "* Display a preview of the summary data frame\n",
    "\n"
   ]
  },
  {
   "cell_type": "code",
   "execution_count": 11,
   "metadata": {},
   "outputs": [
    {
     "data": {
      "text/html": [
       "<style  type=\"text/css\" >\n",
       "</style><table id=\"T_15509350_0cef_11eb_9c98_9801a79465db\" ><thead>    <tr>        <th class=\"blank level0\" ></th>        <th class=\"col_heading level0 col0\" >Purchase Count</th>        <th class=\"col_heading level0 col1\" >Average Purchase Price</th>        <th class=\"col_heading level0 col2\" >Total Purchase Value</th>    </tr>    <tr>        <th class=\"index_name level0\" >SN</th>        <th class=\"blank\" ></th>        <th class=\"blank\" ></th>        <th class=\"blank\" ></th>    </tr></thead><tbody>\n",
       "                <tr>\n",
       "                        <th id=\"T_15509350_0cef_11eb_9c98_9801a79465dblevel0_row0\" class=\"row_heading level0 row0\" >Lisosia93</th>\n",
       "                        <td id=\"T_15509350_0cef_11eb_9c98_9801a79465dbrow0_col0\" class=\"data row0 col0\" >5</td>\n",
       "                        <td id=\"T_15509350_0cef_11eb_9c98_9801a79465dbrow0_col1\" class=\"data row0 col1\" >$3.79</td>\n",
       "                        <td id=\"T_15509350_0cef_11eb_9c98_9801a79465dbrow0_col2\" class=\"data row0 col2\" >$18.96</td>\n",
       "            </tr>\n",
       "            <tr>\n",
       "                        <th id=\"T_15509350_0cef_11eb_9c98_9801a79465dblevel0_row1\" class=\"row_heading level0 row1\" >Idastidru52</th>\n",
       "                        <td id=\"T_15509350_0cef_11eb_9c98_9801a79465dbrow1_col0\" class=\"data row1 col0\" >4</td>\n",
       "                        <td id=\"T_15509350_0cef_11eb_9c98_9801a79465dbrow1_col1\" class=\"data row1 col1\" >$3.86</td>\n",
       "                        <td id=\"T_15509350_0cef_11eb_9c98_9801a79465dbrow1_col2\" class=\"data row1 col2\" >$15.45</td>\n",
       "            </tr>\n",
       "            <tr>\n",
       "                        <th id=\"T_15509350_0cef_11eb_9c98_9801a79465dblevel0_row2\" class=\"row_heading level0 row2\" >Chamjask73</th>\n",
       "                        <td id=\"T_15509350_0cef_11eb_9c98_9801a79465dbrow2_col0\" class=\"data row2 col0\" >3</td>\n",
       "                        <td id=\"T_15509350_0cef_11eb_9c98_9801a79465dbrow2_col1\" class=\"data row2 col1\" >$4.61</td>\n",
       "                        <td id=\"T_15509350_0cef_11eb_9c98_9801a79465dbrow2_col2\" class=\"data row2 col2\" >$13.83</td>\n",
       "            </tr>\n",
       "            <tr>\n",
       "                        <th id=\"T_15509350_0cef_11eb_9c98_9801a79465dblevel0_row3\" class=\"row_heading level0 row3\" >Iral74</th>\n",
       "                        <td id=\"T_15509350_0cef_11eb_9c98_9801a79465dbrow3_col0\" class=\"data row3 col0\" >4</td>\n",
       "                        <td id=\"T_15509350_0cef_11eb_9c98_9801a79465dbrow3_col1\" class=\"data row3 col1\" >$3.40</td>\n",
       "                        <td id=\"T_15509350_0cef_11eb_9c98_9801a79465dbrow3_col2\" class=\"data row3 col2\" >$13.62</td>\n",
       "            </tr>\n",
       "            <tr>\n",
       "                        <th id=\"T_15509350_0cef_11eb_9c98_9801a79465dblevel0_row4\" class=\"row_heading level0 row4\" >Iskadarya95</th>\n",
       "                        <td id=\"T_15509350_0cef_11eb_9c98_9801a79465dbrow4_col0\" class=\"data row4 col0\" >3</td>\n",
       "                        <td id=\"T_15509350_0cef_11eb_9c98_9801a79465dbrow4_col1\" class=\"data row4 col1\" >$4.37</td>\n",
       "                        <td id=\"T_15509350_0cef_11eb_9c98_9801a79465dbrow4_col2\" class=\"data row4 col2\" >$13.10</td>\n",
       "            </tr>\n",
       "    </tbody></table>"
      ],
      "text/plain": [
       "<pandas.io.formats.style.Styler at 0x7fc47df733d0>"
      ]
     },
     "execution_count": 11,
     "metadata": {},
     "output_type": "execute_result"
    }
   ],
   "source": [
    "#Finding Purchase Count by Screen Name\n",
    "purchase_count_sn = purchase_data.groupby([\"SN\"]).count()[\"Purchase ID\"]\n",
    "#Finding Avg Purchase Price by Screen Name\n",
    "avg_purchase_price_sn = purchase_data.groupby([\"SN\"]).mean()[\"Price\"]\n",
    "#Finding Total Purchase Value by Screen Name\n",
    "total_purchase_val_sn = purchase_data.groupby([\"SN\"]).sum()[\"Price\"]\n",
    "#Create Data Frame\n",
    "top_spenders = pd.DataFrame({\"Purchase Count\": purchase_count_sn, \"Average Purchase Price\": avg_purchase_price_sn, \"Total Purchase Value\": total_purchase_val_sn})\n",
    "#Sort Data Frame \n",
    "sort_top_spenders = top_spenders.sort_values(\"Total Purchase Value\",ascending=False)\n",
    "#Styling\n",
    "style_dic={\"Average Purchase Price\":\"${0:,.2f}\", \"Total Purchase Value\":\"${0:,.2f}\"}\n",
    "sort_top_spenders.head().style.format(style_dic)"
   ]
  },
  {
   "cell_type": "markdown",
   "metadata": {},
   "source": [
    "## Most Popular Items"
   ]
  },
  {
   "cell_type": "markdown",
   "metadata": {},
   "source": [
    "* Retrieve the Item ID, Item Name, and Item Price columns\n",
    "\n",
    "\n",
    "* Group by Item ID and Item Name. Perform calculations to obtain purchase count, item price, and total purchase value\n",
    "\n",
    "\n",
    "* Create a summary data frame to hold the results\n",
    "\n",
    "\n",
    "* Sort the purchase count column in descending order\n",
    "\n",
    "\n",
    "* Optional: give the displayed data cleaner formatting\n",
    "\n",
    "\n",
    "* Display a preview of the summary data frame\n",
    "\n"
   ]
  },
  {
   "cell_type": "code",
   "execution_count": 12,
   "metadata": {},
   "outputs": [
    {
     "data": {
      "text/html": [
       "<style  type=\"text/css\" >\n",
       "</style><table id=\"T_167d905c_0cef_11eb_9c98_9801a79465db\" ><thead>    <tr>        <th class=\"blank\" ></th>        <th class=\"blank level0\" ></th>        <th class=\"col_heading level0 col0\" >Purchase Count</th>        <th class=\"col_heading level0 col1\" >Item Price</th>        <th class=\"col_heading level0 col2\" >Total Purchase Value</th>    </tr>    <tr>        <th class=\"index_name level0\" >Item ID</th>        <th class=\"index_name level1\" >Item Name</th>        <th class=\"blank\" ></th>        <th class=\"blank\" ></th>        <th class=\"blank\" ></th>    </tr></thead><tbody>\n",
       "                <tr>\n",
       "                        <th id=\"T_167d905c_0cef_11eb_9c98_9801a79465dblevel0_row0\" class=\"row_heading level0 row0\" >92</th>\n",
       "                        <th id=\"T_167d905c_0cef_11eb_9c98_9801a79465dblevel1_row0\" class=\"row_heading level1 row0\" >Final Critic</th>\n",
       "                        <td id=\"T_167d905c_0cef_11eb_9c98_9801a79465dbrow0_col0\" class=\"data row0 col0\" >13</td>\n",
       "                        <td id=\"T_167d905c_0cef_11eb_9c98_9801a79465dbrow0_col1\" class=\"data row0 col1\" >$4.61</td>\n",
       "                        <td id=\"T_167d905c_0cef_11eb_9c98_9801a79465dbrow0_col2\" class=\"data row0 col2\" >$59.99</td>\n",
       "            </tr>\n",
       "            <tr>\n",
       "                        <th id=\"T_167d905c_0cef_11eb_9c98_9801a79465dblevel0_row1\" class=\"row_heading level0 row1\" >178</th>\n",
       "                        <th id=\"T_167d905c_0cef_11eb_9c98_9801a79465dblevel1_row1\" class=\"row_heading level1 row1\" >Oathbreaker, Last Hope of the Breaking Storm</th>\n",
       "                        <td id=\"T_167d905c_0cef_11eb_9c98_9801a79465dbrow1_col0\" class=\"data row1 col0\" >12</td>\n",
       "                        <td id=\"T_167d905c_0cef_11eb_9c98_9801a79465dbrow1_col1\" class=\"data row1 col1\" >$4.23</td>\n",
       "                        <td id=\"T_167d905c_0cef_11eb_9c98_9801a79465dbrow1_col2\" class=\"data row1 col2\" >$50.76</td>\n",
       "            </tr>\n",
       "            <tr>\n",
       "                        <th id=\"T_167d905c_0cef_11eb_9c98_9801a79465dblevel0_row2\" class=\"row_heading level0 row2\" >145</th>\n",
       "                        <th id=\"T_167d905c_0cef_11eb_9c98_9801a79465dblevel1_row2\" class=\"row_heading level1 row2\" >Fiery Glass Crusader</th>\n",
       "                        <td id=\"T_167d905c_0cef_11eb_9c98_9801a79465dbrow2_col0\" class=\"data row2 col0\" >9</td>\n",
       "                        <td id=\"T_167d905c_0cef_11eb_9c98_9801a79465dbrow2_col1\" class=\"data row2 col1\" >$4.58</td>\n",
       "                        <td id=\"T_167d905c_0cef_11eb_9c98_9801a79465dbrow2_col2\" class=\"data row2 col2\" >$41.22</td>\n",
       "            </tr>\n",
       "            <tr>\n",
       "                        <th id=\"T_167d905c_0cef_11eb_9c98_9801a79465dblevel0_row3\" class=\"row_heading level0 row3\" >132</th>\n",
       "                        <th id=\"T_167d905c_0cef_11eb_9c98_9801a79465dblevel1_row3\" class=\"row_heading level1 row3\" >Persuasion</th>\n",
       "                        <td id=\"T_167d905c_0cef_11eb_9c98_9801a79465dbrow3_col0\" class=\"data row3 col0\" >9</td>\n",
       "                        <td id=\"T_167d905c_0cef_11eb_9c98_9801a79465dbrow3_col1\" class=\"data row3 col1\" >$3.22</td>\n",
       "                        <td id=\"T_167d905c_0cef_11eb_9c98_9801a79465dbrow3_col2\" class=\"data row3 col2\" >$28.99</td>\n",
       "            </tr>\n",
       "            <tr>\n",
       "                        <th id=\"T_167d905c_0cef_11eb_9c98_9801a79465dblevel0_row4\" class=\"row_heading level0 row4\" >108</th>\n",
       "                        <th id=\"T_167d905c_0cef_11eb_9c98_9801a79465dblevel1_row4\" class=\"row_heading level1 row4\" >Extraction, Quickblade Of Trembling Hands</th>\n",
       "                        <td id=\"T_167d905c_0cef_11eb_9c98_9801a79465dbrow4_col0\" class=\"data row4 col0\" >9</td>\n",
       "                        <td id=\"T_167d905c_0cef_11eb_9c98_9801a79465dbrow4_col1\" class=\"data row4 col1\" >$3.53</td>\n",
       "                        <td id=\"T_167d905c_0cef_11eb_9c98_9801a79465dbrow4_col2\" class=\"data row4 col2\" >$31.77</td>\n",
       "            </tr>\n",
       "    </tbody></table>"
      ],
      "text/plain": [
       "<pandas.io.formats.style.Styler at 0x7fc47df00f40>"
      ]
     },
     "execution_count": 12,
     "metadata": {},
     "output_type": "execute_result"
    }
   ],
   "source": [
    "#Locking data series by Item Id, Item Name, and Price\n",
    "purchase_data.loc[:, [\"Item ID\", \"Item Name\", \"Price\"]]\n",
    "#Finding Purchase Count by Item Id and Item Name\n",
    "purchase_count_mp = purchase_data.groupby([\"Item ID\", \"Item Name\"]).count()[\"Purchase ID\"]\n",
    "#Finding Total Purchase Value by Item Id and Item Name\n",
    "total_purchase_val_mp = purchase_data.groupby([\"Item ID\", \"Item Name\"]).sum()[\"Price\"]\n",
    "#Finding Item Price\n",
    "item_price = total_purchase_val_mp / purchase_count_mp\n",
    "#Create Data Frame\n",
    "most_popular = pd.DataFrame({\"Purchase Count\": purchase_count_mp,\"Item Price\": item_price,\"Total Purchase Value\": total_purchase_val_mp})\n",
    "#Sort Data Frame\n",
    "sort_most_popular = most_popular.sort_values(\"Purchase Count\",ascending=False)\n",
    "#Styling\n",
    "style_dic={\"Item Price\":\"${0:,.2f}\", \"Total Purchase Value\":\"${0:,.2f}\"}\n",
    "sort_most_popular.head().style.format(style_dic)"
   ]
  },
  {
   "cell_type": "markdown",
   "metadata": {},
   "source": [
    "## Most Profitable Items"
   ]
  },
  {
   "cell_type": "markdown",
   "metadata": {},
   "source": [
    "* Sort the above table by total purchase value in descending order\n",
    "\n",
    "\n",
    "* Optional: give the displayed data cleaner formatting\n",
    "\n",
    "\n",
    "* Display a preview of the data frame\n",
    "\n"
   ]
  },
  {
   "cell_type": "code",
   "execution_count": 13,
   "metadata": {
    "scrolled": true
   },
   "outputs": [
    {
     "data": {
      "text/html": [
       "<style  type=\"text/css\" >\n",
       "</style><table id=\"T_17f7d758_0cef_11eb_9c98_9801a79465db\" ><thead>    <tr>        <th class=\"blank\" ></th>        <th class=\"blank level0\" ></th>        <th class=\"col_heading level0 col0\" >Purchase Count</th>        <th class=\"col_heading level0 col1\" >Item Price</th>        <th class=\"col_heading level0 col2\" >Total Purchase Value</th>    </tr>    <tr>        <th class=\"index_name level0\" >Item ID</th>        <th class=\"index_name level1\" >Item Name</th>        <th class=\"blank\" ></th>        <th class=\"blank\" ></th>        <th class=\"blank\" ></th>    </tr></thead><tbody>\n",
       "                <tr>\n",
       "                        <th id=\"T_17f7d758_0cef_11eb_9c98_9801a79465dblevel0_row0\" class=\"row_heading level0 row0\" >92</th>\n",
       "                        <th id=\"T_17f7d758_0cef_11eb_9c98_9801a79465dblevel1_row0\" class=\"row_heading level1 row0\" >Final Critic</th>\n",
       "                        <td id=\"T_17f7d758_0cef_11eb_9c98_9801a79465dbrow0_col0\" class=\"data row0 col0\" >13</td>\n",
       "                        <td id=\"T_17f7d758_0cef_11eb_9c98_9801a79465dbrow0_col1\" class=\"data row0 col1\" >$4.61</td>\n",
       "                        <td id=\"T_17f7d758_0cef_11eb_9c98_9801a79465dbrow0_col2\" class=\"data row0 col2\" >$59.99</td>\n",
       "            </tr>\n",
       "            <tr>\n",
       "                        <th id=\"T_17f7d758_0cef_11eb_9c98_9801a79465dblevel0_row1\" class=\"row_heading level0 row1\" >178</th>\n",
       "                        <th id=\"T_17f7d758_0cef_11eb_9c98_9801a79465dblevel1_row1\" class=\"row_heading level1 row1\" >Oathbreaker, Last Hope of the Breaking Storm</th>\n",
       "                        <td id=\"T_17f7d758_0cef_11eb_9c98_9801a79465dbrow1_col0\" class=\"data row1 col0\" >12</td>\n",
       "                        <td id=\"T_17f7d758_0cef_11eb_9c98_9801a79465dbrow1_col1\" class=\"data row1 col1\" >$4.23</td>\n",
       "                        <td id=\"T_17f7d758_0cef_11eb_9c98_9801a79465dbrow1_col2\" class=\"data row1 col2\" >$50.76</td>\n",
       "            </tr>\n",
       "            <tr>\n",
       "                        <th id=\"T_17f7d758_0cef_11eb_9c98_9801a79465dblevel0_row2\" class=\"row_heading level0 row2\" >82</th>\n",
       "                        <th id=\"T_17f7d758_0cef_11eb_9c98_9801a79465dblevel1_row2\" class=\"row_heading level1 row2\" >Nirvana</th>\n",
       "                        <td id=\"T_17f7d758_0cef_11eb_9c98_9801a79465dbrow2_col0\" class=\"data row2 col0\" >9</td>\n",
       "                        <td id=\"T_17f7d758_0cef_11eb_9c98_9801a79465dbrow2_col1\" class=\"data row2 col1\" >$4.90</td>\n",
       "                        <td id=\"T_17f7d758_0cef_11eb_9c98_9801a79465dbrow2_col2\" class=\"data row2 col2\" >$44.10</td>\n",
       "            </tr>\n",
       "            <tr>\n",
       "                        <th id=\"T_17f7d758_0cef_11eb_9c98_9801a79465dblevel0_row3\" class=\"row_heading level0 row3\" >145</th>\n",
       "                        <th id=\"T_17f7d758_0cef_11eb_9c98_9801a79465dblevel1_row3\" class=\"row_heading level1 row3\" >Fiery Glass Crusader</th>\n",
       "                        <td id=\"T_17f7d758_0cef_11eb_9c98_9801a79465dbrow3_col0\" class=\"data row3 col0\" >9</td>\n",
       "                        <td id=\"T_17f7d758_0cef_11eb_9c98_9801a79465dbrow3_col1\" class=\"data row3 col1\" >$4.58</td>\n",
       "                        <td id=\"T_17f7d758_0cef_11eb_9c98_9801a79465dbrow3_col2\" class=\"data row3 col2\" >$41.22</td>\n",
       "            </tr>\n",
       "            <tr>\n",
       "                        <th id=\"T_17f7d758_0cef_11eb_9c98_9801a79465dblevel0_row4\" class=\"row_heading level0 row4\" >103</th>\n",
       "                        <th id=\"T_17f7d758_0cef_11eb_9c98_9801a79465dblevel1_row4\" class=\"row_heading level1 row4\" >Singed Scalpel</th>\n",
       "                        <td id=\"T_17f7d758_0cef_11eb_9c98_9801a79465dbrow4_col0\" class=\"data row4 col0\" >8</td>\n",
       "                        <td id=\"T_17f7d758_0cef_11eb_9c98_9801a79465dbrow4_col1\" class=\"data row4 col1\" >$4.35</td>\n",
       "                        <td id=\"T_17f7d758_0cef_11eb_9c98_9801a79465dbrow4_col2\" class=\"data row4 col2\" >$34.80</td>\n",
       "            </tr>\n",
       "    </tbody></table>"
      ],
      "text/plain": [
       "<pandas.io.formats.style.Styler at 0x7fc47f37e490>"
      ]
     },
     "execution_count": 13,
     "metadata": {},
     "output_type": "execute_result"
    }
   ],
   "source": [
    "#Sort Data Frame aboce by Total Purchase Value\n",
    "sort_most_profitable = most_popular.sort_values(\"Total Purchase Value\",ascending=False)\n",
    "#Styling\n",
    "style_dic={\"Item Price\":\"${0:,.2f}\", \"Total Purchase Value\":\"${0:,.2f}\"}\n",
    "sort_most_profitable.head(5).style.format(style_dic)"
   ]
  },
  {
   "cell_type": "code",
   "execution_count": null,
   "metadata": {},
   "outputs": [],
   "source": []
  }
 ],
 "metadata": {
  "anaconda-cloud": {},
  "kernel_info": {
   "name": "python3"
  },
  "kernelspec": {
   "display_name": "Python 3",
   "language": "python",
   "name": "python3"
  },
  "language_info": {
   "codemirror_mode": {
    "name": "ipython",
    "version": 3
   },
   "file_extension": ".py",
   "mimetype": "text/x-python",
   "name": "python",
   "nbconvert_exporter": "python",
   "pygments_lexer": "ipython3",
   "version": "3.8.3"
  },
  "latex_envs": {
   "LaTeX_envs_menu_present": true,
   "autoclose": false,
   "autocomplete": true,
   "bibliofile": "biblio.bib",
   "cite_by": "apalike",
   "current_citInitial": 1,
   "eqLabelWithNumbers": true,
   "eqNumInitial": 1,
   "hotkeys": {
    "equation": "Ctrl-E",
    "itemize": "Ctrl-I"
   },
   "labels_anchors": false,
   "latex_user_defs": false,
   "report_style_numbering": false,
   "user_envs_cfg": false
  },
  "nteract": {
   "version": "0.2.0"
  }
 },
 "nbformat": 4,
 "nbformat_minor": 2
}
