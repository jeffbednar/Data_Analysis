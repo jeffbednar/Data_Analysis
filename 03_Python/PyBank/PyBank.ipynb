{
 "cells": [
  {
   "cell_type": "code",
   "execution_count": 15,
   "metadata": {},
   "outputs": [
    {
     "name": "stdout",
     "output_type": "stream",
     "text": [
      "Financial Analysis\n",
      "---------------------------------------\n",
      "Total Months: 86\n",
      "Total: $38382578\n",
      "Average Change: $ -2315.12\n",
      "Greatest Increase in Profits: Feb-2012 ($1926159)\n",
      "Greatest Decrease in Profits: Sep-2013 ($-2196167)\n"
     ]
    }
   ],
   "source": [
    "import os\n",
    "import csv\n",
    "\n",
    "budget_data_csv = os.path.join('./Resources/budget_data.csv')\n",
    "\n",
    "#create values and lists\n",
    "total_months = 0\n",
    "total_pl = 0\n",
    "previous_value = 0\n",
    "monthly_change = 0\n",
    "dates = []\n",
    "profit_loss = []\n",
    "\n",
    "#Open and read the CSV file\n",
    "with open(budget_data_csv, newline = \"\") as csvfile:\n",
    "    csvreader = csv.reader(csvfile, delimiter = \",\")\n",
    "    \n",
    "    csv_header = next(csvreader)\n",
    "\n",
    "    #Finding inital values from the first row\n",
    "    first_row = next(csvreader)\n",
    "    total_months += 1\n",
    "    total_pl += int(first_row[1])\n",
    "    previous_value = int(first_row[1])\n",
    "    \n",
    "    #loop through each row\n",
    "    for row in csvreader:\n",
    "        \n",
    "        # Keep track of the dates\n",
    "        dates.append(row[0])\n",
    "        \n",
    "        # Calculate the value change, then add it to list of changes\n",
    "        monthly_change = int(row[1])-previous_value\n",
    "        profit_loss.append(monthly_change)\n",
    "        previous_value = int(row[1])\n",
    "        \n",
    "        #Add months to find total \n",
    "        total_months = total_months + 1\n",
    "\n",
    "        #Add the profits or losses for each row \n",
    "        total_pl = total_pl + int(row[1])\n",
    "\n",
    "    #find greatest increase in profits and the associated date\n",
    "    greatest_increase_pl = max(profit_loss)\n",
    "    greatest_increase_date = dates[profit_loss.index(greatest_increase_pl)]\n",
    "\n",
    "    #find greatest decrease in profits and the associated date \n",
    "    greatest_decrease_pl = min(profit_loss)\n",
    "    greatest_decrease_date = dates[profit_loss.index(greatest_decrease_pl)]\n",
    "\n",
    "    #Average change in Profit/Losses between months over entire period\n",
    "    avg_change = sum(profit_loss)/len(profit_loss)\n",
    "\n",
    "\n",
    "print(\"Financial Analysis\")\n",
    "print(\"---------------------------------------\")\n",
    "print(f\"Total Months: {int(total_months)}\")\n",
    "print(f\"Total: ${int(total_pl)}\")\n",
    "print(f\"Average Change: $ {(avg_change):.2f}\")\n",
    "print(f\"Greatest Increase in Profits: {greatest_increase_date} (${greatest_increase_pl})\")\n",
    "print(f\"Greatest Decrease in Profits: {greatest_decrease_date} (${greatest_decrease_pl})\")\n",
    "\n",
    "output_path = os.path.join('./Analysis', \"analysis.txt\")\n",
    "with open(output_path, 'w') as txt_file:\n",
    "    \n",
    "    txt_file.write(\"Financial Analysis\\n\")\n",
    "    txt_file.write(\"---------------------------------------\\n\")\n",
    "    txt_file.write(f\"Total Months: {int(total_months)}\\n\")\n",
    "    txt_file.write(f\"Total: ${int(total_pl)}\\n\")\n",
    "    txt_file.write(f\"Average Change: $ {(avg_change):.2f}\\n\")\n",
    "    txt_file.write(f\"Greatest Increase in Profits: {greatest_increase_date} (${greatest_increase_pl})\\n\")\n",
    "    txt_file.write(f\"Greatest Decrease in Profits: {greatest_decrease_date} (${greatest_decrease_pl})\\n\")"
   ]
  },
  {
   "cell_type": "code",
   "execution_count": null,
   "metadata": {},
   "outputs": [],
   "source": []
  },
  {
   "cell_type": "code",
   "execution_count": null,
   "metadata": {},
   "outputs": [],
   "source": []
  },
  {
   "cell_type": "code",
   "execution_count": null,
   "metadata": {},
   "outputs": [],
   "source": []
  }
 ],
 "metadata": {
  "kernelspec": {
   "display_name": "Python 3",
   "language": "python",
   "name": "python3"
  },
  "language_info": {
   "codemirror_mode": {
    "name": "ipython",
    "version": 3
   },
   "file_extension": ".py",
   "mimetype": "text/x-python",
   "name": "python",
   "nbconvert_exporter": "python",
   "pygments_lexer": "ipython3",
   "version": "3.8.5"
  }
 },
 "nbformat": 4,
 "nbformat_minor": 4
}
