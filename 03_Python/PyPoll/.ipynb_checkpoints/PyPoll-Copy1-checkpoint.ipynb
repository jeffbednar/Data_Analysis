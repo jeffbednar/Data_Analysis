{
 "cells": [
  {
   "cell_type": "code",
   "execution_count": 2,
   "metadata": {},
   "outputs": [
    {
     "name": "stdout",
     "output_type": "stream",
     "text": [
      "Election Results\n",
      "---------------------------------------\n",
      "Total Votes: 3521001\n",
      "---------------------------------------\n",
      "Khan: 63.000% (2218231)\n",
      "Correy: 20.000% (704200)\n",
      "Li: 14.000% (492940)\n",
      "O'Tooley: 3.000% (105630)\n",
      "---------------------------------------\n",
      "Winner: Khan\n",
      "---------------------------------------\n"
     ]
    }
   ],
   "source": [
    "import os\n",
    "import csv\n",
    "\n",
    "election_data_csv = os.path.join('./Resources/election_data.csv')\n",
    "\n",
    "#create variables and empty lists\n",
    "total_votes = 0\n",
    "candidates = []\n",
    "votes = []\n",
    "vote_percentage = []\n",
    "\n",
    "#open file with CSV reader\n",
    "with open(election_data_csv,newline='') as csvfile:\n",
    "    csvreader=csv.reader(csvfile,delimiter=',')\n",
    "    header = next(csvreader)\n",
    "    for row in csvreader:\n",
    "       \n",
    "        #find total number of votes\n",
    "        total_votes = total_votes + 1\n",
    "      \n",
    "        #Add candidate to the candidate list and their first vote\n",
    "        if str(row[2]) not in candidates:\n",
    "            candidates.append(row[2])\n",
    "            candidate_index = candidates.index(row[2])\n",
    "            votes.append(1)\n",
    "        #Add a vote to an existing candidate in the candidate list\n",
    "        else:\n",
    "            candidate_index = candidates.index(row[2])\n",
    "            votes[candidate_index] += 1\n",
    "        \n",
    "    #finding percentage of votes    \n",
    "    for vote in votes:\n",
    "        percentage = (vote/total_votes) * 100\n",
    "        vote_percentage.append(percentage)\n",
    "            \n",
    "#finding the winner\n",
    "winner = max(votes)\n",
    "winner_index = votes.index(winner)\n",
    "winning_candidate = candidates[winner_index]\n",
    "\n",
    "#print results\n",
    "print(\"Election Results\")\n",
    "print(\"---------------------------------------\")\n",
    "print(f\"Total Votes: {int(total_votes)}\")\n",
    "print(\"---------------------------------------\")\n",
    "#use a loop to iterate through the lists and associated values\n",
    "for a in range(len(candidates)):\n",
    "    print(f\"{candidates[a]}: {vote_percentage[a]:.3f}% ({votes[a]})\")\n",
    "print(\"---------------------------------------\")\n",
    "print(f\"Winner: {winning_candidate}\")\n",
    "print(\"---------------------------------------\")\n"
   ]
  },
  {
   "cell_type": "code",
   "execution_count": null,
   "metadata": {},
   "outputs": [],
   "source": []
  }
 ],
 "metadata": {
  "kernelspec": {
   "display_name": "Python 3",
   "language": "python",
   "name": "python3"
  },
  "language_info": {
   "codemirror_mode": {
    "name": "ipython",
    "version": 3
   },
   "file_extension": ".py",
   "mimetype": "text/x-python",
   "name": "python",
   "nbconvert_exporter": "python",
   "pygments_lexer": "ipython3",
   "version": "3.8.5"
  }
 },
 "nbformat": 4,
 "nbformat_minor": 4
}
